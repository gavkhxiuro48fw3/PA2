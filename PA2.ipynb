{
 "cells": [
  {
   "cell_type": "markdown",
   "id": "719e403e",
   "metadata": {},
   "source": [
    "## Gavin Trumbull\n",
    "# assignment 2, eric matthes, 2nd edition, spring 2023\n",
    "# CS150"
   ]
  },
  {
   "cell_type": "code",
   "execution_count": 3,
   "id": "5c536525",
   "metadata": {},
   "outputs": [
    {
     "name": "stdout",
     "output_type": "stream",
     "text": [
      "Enter a floating-point number. 44.3\n"
     ]
    }
   ],
   "source": [
    "floating_number=input(\"Enter a floating-point number. \")"
   ]
  },
  {
   "cell_type": "code",
   "execution_count": 4,
   "id": "76cd981b",
   "metadata": {},
   "outputs": [
    {
     "name": "stdout",
     "output_type": "stream",
     "text": [
      "enter an integer. 16\n"
     ]
    }
   ],
   "source": [
    "integer=input(\"enter an integer. \")"
   ]
  },
  {
   "cell_type": "code",
   "execution_count": 5,
   "id": "9786ac86",
   "metadata": {},
   "outputs": [
    {
     "name": "stdout",
     "output_type": "stream",
     "text": [
      "the sum is 60.3\n"
     ]
    }
   ],
   "source": [
    "print(\"the sum is\",int(integer)+float(floating_number))"
   ]
  },
  {
   "cell_type": "code",
   "execution_count": 6,
   "id": "7396a5d4",
   "metadata": {},
   "outputs": [
    {
     "name": "stdout",
     "output_type": "stream",
     "text": [
      "the difference is -28.299999999999997\n"
     ]
    }
   ],
   "source": [
    "print(\"the difference is\",int(integer)-float(floating_number))"
   ]
  },
  {
   "cell_type": "code",
   "execution_count": 7,
   "id": "9b3a02e9",
   "metadata": {},
   "outputs": [
    {
     "name": "stdout",
     "output_type": "stream",
     "text": [
      "the product is 708.8\n"
     ]
    }
   ],
   "source": [
    "print(\"the product is\",int(integer)*float(floating_number))"
   ]
  },
  {
   "cell_type": "code",
   "execution_count": 8,
   "id": "e61012b3",
   "metadata": {},
   "outputs": [
    {
     "name": "stdout",
     "output_type": "stream",
     "text": [
      "the quotient is 0.3611738148984199\n"
     ]
    }
   ],
   "source": [
    "print(\"the quotient is\",int(integer)/float(floating_number))"
   ]
  },
  {
   "cell_type": "code",
   "execution_count": 10,
   "id": "3c991e80",
   "metadata": {},
   "outputs": [
    {
     "name": "stdout",
     "output_type": "stream",
     "text": [
      "the type for the result is <class 'float'>\n"
     ]
    }
   ],
   "source": [
    "print(\"the type for the result is\",type(int(integer)/float(floating_number)))"
   ]
  }
 ],
 "metadata": {
  "kernelspec": {
   "display_name": "Python 3 (ipykernel)",
   "language": "python",
   "name": "python3"
  },
  "language_info": {
   "codemirror_mode": {
    "name": "ipython",
    "version": 3
   },
   "file_extension": ".py",
   "mimetype": "text/x-python",
   "name": "python",
   "nbconvert_exporter": "python",
   "pygments_lexer": "ipython3",
   "version": "3.9.13"
  }
 },
 "nbformat": 4,
 "nbformat_minor": 5
}
